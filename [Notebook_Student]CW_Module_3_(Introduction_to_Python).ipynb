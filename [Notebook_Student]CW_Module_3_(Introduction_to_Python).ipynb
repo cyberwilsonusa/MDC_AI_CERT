{
  "cells": [
    {
      "cell_type": "markdown",
      "metadata": {
        "id": "n8k892W_QmZU"
      },
      "source": [
        "# **Getting Started with Python!**"
      ]
    },
    {
      "cell_type": "markdown",
      "metadata": {
        "id": "4-texIqgQmZb"
      },
      "source": [
        "Python is a popular programming language that is reliable, flexible, easy to learn, free to use on all operating systems, and supported by both a strong developer community and many free libraries (Libraries are pre-written codes that developers use to solve common programming tasks).\n",
        "\n",
        "Python supports all manners of development, including web applications, web services, desktop apps, scripting, data science, scientific computing, and Jupyter notebooks. Python is a language used by many universities, scientists, casual developers, and professional developers alike.\n",
        "\n",
        "Python is a **high level programming Language**. This simply means that the commands used in Python are understandable by humans. These commands are then converted into machine code by using an interpreter.\n",
        "\n",
        "You can learn more about the language on [python.org](https://www.python.org/) and [Python for Beginners](https://www.python.org/about/gettingstarted/).."
      ]
    },
    {
      "cell_type": "markdown",
      "metadata": {
        "id": "wRAKwUmeQmZd"
      },
      "source": [
        "##  Why use Python for learning AI ?"
      ]
    },
    {
      "cell_type": "markdown",
      "metadata": {
        "id": "GFwO5zg6QmZe"
      },
      "source": [
        "# Python is more often than not the top most choice for Machine Learning Applications. The main reason for this is the amount of **simplicity, consistency and stability** Python code can bring to AI workflows.\n",
        "\n",
        "The simplest of AI workflows require extensive mathematical functions running in the background. The wide variety of stable and user friendly **libraries** like Scikit-Learn (used for handling basic Machine Learning algorithms like clustering, linear and logistic regressions, etc.), Matplotlib (used for creating bar charts, histograms and other data visualizations) etc provide great support for building scalable and efficient code. We shall cover more on these in the later sessions.\n",
        "\n",
        "Another reason why python is easy to use is that you **do not need to declare variable types** unlike other programming languages. A variable is the name you give to a value you want to store and use later.\n",
        "\n",
        "For example, let's say you would like to create a variable called money to store some numerical value of money, in Python you would only need to assign a value to the word 'money' to use it, in other programming languages, this requires a variable type declaration before use.\n",
        "\n",
        "Now that we have understood why we have chosen Python as our programming language, let's get started with basic commands we will come across frequently in our AI journey!"
      ]
    },
    {
      "cell_type": "markdown",
      "metadata": {
        "id": "RS5tZAa1xXWn"
      },
      "source": [
        "**Some tips before we begin:**"
      ]
    },
    {
      "cell_type": "code",
      "execution_count": null,
      "metadata": {
        "id": "-R1-ez8cxXWn"
      },
      "outputs": [],
      "source": [
        "# 1) This box is called a Cell in a Notebook environment.\n",
        "# 2) Do try to follow along with your facilitator by pressing the Run button(left of the cell)"
      ]
    },
    {
      "cell_type": "markdown",
      "metadata": {
        "id": "EEKwmQIdQmZf"
      },
      "source": [
        "## Comments\n",
        "\n",
        "Many of the examples in this notebook include comments. Comments in Python start with the hash character, `#`, and extend to the end of the physical line. A comment may appear at the start of a line or following whitespace or code, but not within the quotation marks `\"\"` or `''` of a String itself. A hash character between quotation marks is just a hash character. Since comments are to clarify code and are not interpreted by Python, they may be omitted when typing in examples.\n",
        "\n",
        "Some examples:"
      ]
    },
    {
      "cell_type": "code",
      "execution_count": 17,
      "metadata": {
        "id": "JmE6SFGxQmZh",
        "outputId": "452a4ace-dcca-45c7-9ae8-b9440189364f",
        "colab": {
          "base_uri": "https://localhost:8080/"
        }
      },
      "outputs": [
        {
          "output_type": "stream",
          "name": "stdout",
          "text": [
            "Hi welcome to your first Python Program!\n"
          ]
        }
      ],
      "source": [
        "# This is the first comment\n",
        "number = 1  # and this is the second comment\n",
        "          # ... and now a third!\n",
        "'#Meanwhile, this is not a comment'\n",
        "\n",
        "Welcome = \"Hi welcome to your first Python Program!\"\n",
        "print(Welcome) #This is the 'print' Command"
      ]
    },
    {
      "cell_type": "markdown",
      "metadata": {
        "id": "OOX51tZTQmZx"
      },
      "source": [
        "# Explore Data Types in Python!"
      ]
    },
    {
      "cell_type": "markdown",
      "metadata": {
        "id": "yeT2aJTMQmZa"
      },
      "source": [
        "##  What is Python ?"
      ]
    },
    {
      "cell_type": "markdown",
      "metadata": {
        "id": "VI45L6AYQmZy"
      },
      "source": [
        "Although we do not have to declare a type for python variables, a value does have a type. These are data types we will be covering in this Notebook:\n",
        "1. Numbers\n",
        "2. Strings\n",
        "3. Lists\n",
        "4. Tuples\n",
        "5. Dictionary"
      ]
    },
    {
      "cell_type": "code",
      "execution_count": 18,
      "metadata": {
        "id": "9R9IWt5n-LL7"
      },
      "outputs": [],
      "source": [
        "x = 'hello'\n",
        "x = [\"I\", \"Love\", \"AI\"]\n",
        "x = 2.5\n",
        "x = True #Boolean type, only has true or false, think of an on-off switch\n"
      ]
    },
    {
      "cell_type": "markdown",
      "metadata": {
        "id": "HjfUiFCKQmZz"
      },
      "source": [
        "## Numbers\n",
        "\n",
        "The Python interpreter can act as a simple calculator: type an expression at it outputs the value.\n",
        "\n",
        "Expression syntax is straightforward: the operators `+`, `-`, `*` and `/` work just like in most other programming languages (such as Pascal or C); parentheses (`()`) can be used for grouping and order or precedence. For example:"
      ]
    },
    {
      "cell_type": "code",
      "execution_count": 19,
      "metadata": {
        "id": "QOeZjO4BQmZ1",
        "outputId": "fc52ff1c-2a31-40ab-e54f-e365b25d203a",
        "colab": {
          "base_uri": "https://localhost:8080/"
        }
      },
      "outputs": [
        {
          "output_type": "execute_result",
          "data": {
            "text/plain": [
              "4.0"
            ]
          },
          "metadata": {},
          "execution_count": 19
        }
      ],
      "source": [
        "56 + 28\n",
        "69 - 2\n",
        "2 * 5\n",
        "((2+1) * 4) / 3"
      ]
    },
    {
      "cell_type": "markdown",
      "metadata": {
        "id": "fSsmmhJeQmaH"
      },
      "source": [
        "The integer numbers (e.g. `2`, `4`, `20`) have type [`int`](https://docs.python.org/3.5/library/functions.html#int), the ones with a fractional part (e.g. `5.0`, `1.6`) have type [`float`](https://docs.python.org/3.5/library/functions.html#float).\n",
        "\n",
        "The major difference is float can be used for both integers and decimals.\n",
        "\n",
        "We can use the type() function to find which data type a variable belongs to."
      ]
    },
    {
      "cell_type": "code",
      "execution_count": 20,
      "metadata": {
        "id": "ncEg_5eRQmaO",
        "outputId": "b0b301a6-7c2a-46f7-920c-97aea6c4171f",
        "colab": {
          "base_uri": "https://localhost:8080/"
        }
      },
      "outputs": [
        {
          "output_type": "stream",
          "name": "stdout",
          "text": [
            "Datatype for roll_number is <class 'int'>\n",
            "Datatype for marks is <class 'float'>\n"
          ]
        }
      ],
      "source": [
        "roll_number = 1234\n",
        "marks = 52.5\n",
        "print (\"Datatype for roll_number is\",type(roll_number))\n",
        "print (\"Datatype for marks is\",type(marks)) #Notice that we did not declare either of the variables with a particular datatype"
      ]
    },
    {
      "cell_type": "markdown",
      "metadata": {
        "id": "bA0je0GNQmaw"
      },
      "source": [
        "Division (`/`) always returns a float. To do [floor division](https://docs.python.org/3.5/glossary.html#term-floor-division) and get an integer result (discarding any fractional result) you can use the `//` operator; to calculate the remainder you can use `%`:"
      ]
    },
    {
      "cell_type": "code",
      "execution_count": 21,
      "metadata": {
        "id": "VlqlUoPLQmbC",
        "outputId": "90d045bf-eef4-4245-a302-be81719f8586",
        "colab": {
          "base_uri": "https://localhost:8080/"
        }
      },
      "outputs": [
        {
          "output_type": "execute_result",
          "data": {
            "text/plain": [
              "2.6"
            ]
          },
          "metadata": {},
          "execution_count": 21
        }
      ],
      "source": [
        "13 / 5  # Division using the '/' operator returns a float."
      ]
    },
    {
      "cell_type": "code",
      "execution_count": 22,
      "metadata": {
        "id": "u1I05HgTQmbV",
        "outputId": "1fedb794-2bfa-416b-91d2-3f82b581df3a",
        "colab": {
          "base_uri": "https://localhost:8080/"
        }
      },
      "outputs": [
        {
          "output_type": "execute_result",
          "data": {
            "text/plain": [
              "2"
            ]
          },
          "metadata": {},
          "execution_count": 22
        }
      ],
      "source": [
        "13 // 5  # Floor division (division which uses the '//' operator) discards the fractional part."
      ]
    },
    {
      "cell_type": "code",
      "execution_count": 23,
      "metadata": {
        "id": "pqUPZcDjQmbe",
        "outputId": "a8f34bfd-1616-4773-dd4a-490d044c02a0",
        "colab": {
          "base_uri": "https://localhost:8080/"
        }
      },
      "outputs": [
        {
          "output_type": "execute_result",
          "data": {
            "text/plain": [
              "3"
            ]
          },
          "metadata": {},
          "execution_count": 23
        }
      ],
      "source": [
        "13 % 5  # The '%' operator returns the remainder of the division."
      ]
    },
    {
      "cell_type": "markdown",
      "metadata": {
        "id": "KL7_nuNGQmbl"
      },
      "source": [
        "Use the `**` operator to calculate powers:"
      ]
    },
    {
      "cell_type": "code",
      "execution_count": 24,
      "metadata": {
        "id": "FeO9nbRVQmbm",
        "outputId": "a9ae9b85-64a0-424c-ca59-bd68dbf69d22",
        "colab": {
          "base_uri": "https://localhost:8080/"
        }
      },
      "outputs": [
        {
          "output_type": "execute_result",
          "data": {
            "text/plain": [
              "144"
            ]
          },
          "metadata": {},
          "execution_count": 24
        }
      ],
      "source": [
        "12**2 # This will print the square of '12'"
      ]
    },
    {
      "cell_type": "code",
      "execution_count": 25,
      "metadata": {
        "id": "ox8YE63kQmbs",
        "outputId": "2a135d8d-885c-4fc2-a70b-2ffd967260cf",
        "colab": {
          "base_uri": "https://localhost:8080/"
        }
      },
      "outputs": [
        {
          "output_type": "execute_result",
          "data": {
            "text/plain": [
              "64"
            ]
          },
          "metadata": {},
          "execution_count": 25
        }
      ],
      "source": [
        "2**6 # This will print 2 to the power 6"
      ]
    },
    {
      "cell_type": "markdown",
      "metadata": {
        "id": "78zPTit4QmcD"
      },
      "source": [
        "`**` has higher precedence than `-`; if you want a negative base, use parentheses:"
      ]
    },
    {
      "cell_type": "code",
      "execution_count": 26,
      "metadata": {
        "id": "JmtzPfPmQmcE",
        "outputId": "5e333906-e7fc-4cbd-8715-a559282ef197",
        "colab": {
          "base_uri": "https://localhost:8080/"
        }
      },
      "outputs": [
        {
          "output_type": "execute_result",
          "data": {
            "text/plain": [
              "-16"
            ]
          },
          "metadata": {},
          "execution_count": 26
        }
      ],
      "source": [
        "-4**2 #Result will be same as -(4**2)"
      ]
    },
    {
      "cell_type": "code",
      "execution_count": 27,
      "metadata": {
        "id": "iJdjBRebQmcd",
        "outputId": "c794d4e7-de7d-406f-df18-5e327aaa0a7f",
        "colab": {
          "base_uri": "https://localhost:8080/"
        }
      },
      "outputs": [
        {
          "output_type": "execute_result",
          "data": {
            "text/plain": [
              "16"
            ]
          },
          "metadata": {},
          "execution_count": 27
        }
      ],
      "source": [
        "(-4)**2"
      ]
    },
    {
      "cell_type": "markdown",
      "metadata": {
        "id": "mjp5w2QuQmcn"
      },
      "source": [
        "The equal sign (`=`) is used for assigning values to a variable"
      ]
    },
    {
      "cell_type": "code",
      "execution_count": 28,
      "metadata": {
        "id": "pzW6Z9NqQmco",
        "outputId": "09f3849f-1a08-4c64-9779-d55930892c94",
        "colab": {
          "base_uri": "https://localhost:8080/"
        }
      },
      "outputs": [
        {
          "output_type": "execute_result",
          "data": {
            "text/plain": [
              "600"
            ]
          },
          "metadata": {},
          "execution_count": 28
        }
      ],
      "source": [
        "weight = 50\n",
        "total_people =12\n",
        "weight * total_people"
      ]
    },
    {
      "cell_type": "markdown",
      "metadata": {
        "id": "gFRTTYQRQmct"
      },
      "source": [
        "If a variable is not defined (i.e assigned a value) then using it results in an error"
      ]
    },
    {
      "cell_type": "code",
      "execution_count": 40,
      "metadata": {
        "id": "de3Wfw54Qmcu"
      },
      "outputs": [],
      "source": [
        "# n Accessing an undefined variable."
      ]
    },
    {
      "cell_type": "markdown",
      "metadata": {
        "id": "RHvbvqqYQmc3"
      },
      "source": [
        "In addition to `int` and `float`, Python supports other types of numbers, such as [`Decimal`](https://docs.python.org/3.5/library/decimal.html#decimal.Decimal) and [`Fraction`](https://docs.python.org/3.5/library/fractions.html#fractions.Fraction). Python also has built-in support for [complex numbers](https://docs.python.org/3.5/library/stdtypes.html#typesnumeric), and uses the `j` or `J` suffix to indicate the imaginary part (e.g. `3+5j`)."
      ]
    },
    {
      "cell_type": "markdown",
      "metadata": {
        "id": "K46jXA1pQmc5"
      },
      "source": [
        "## Strings"
      ]
    },
    {
      "cell_type": "markdown",
      "metadata": {
        "id": "VH8yiVFWQmc6"
      },
      "source": [
        "Strings are a sequence of characters. Besides numbers, Python can also manipulate strings. Strings can enclosed in single quotes `'...'` or double quotes `\"...\"` with the same result. Use \\ to escape quotes, that is, to use the `'` within the string itself:"
      ]
    },
    {
      "cell_type": "code",
      "execution_count": 41,
      "metadata": {
        "id": "p21soIQ6Qmc7",
        "outputId": "d33aca60-7fd0-4a24-a178-4ea5df6194bc",
        "colab": {
          "base_uri": "https://localhost:8080/"
        }
      },
      "outputs": [
        {
          "output_type": "execute_result",
          "data": {
            "text/plain": [
              "str"
            ]
          },
          "metadata": {},
          "execution_count": 41
        }
      ],
      "source": [
        "string=\"What skills have you learnt today ?\"\n",
        "type(string)"
      ]
    },
    {
      "cell_type": "code",
      "execution_count": 42,
      "metadata": {
        "id": "wIFSo6hrQmdF",
        "outputId": "2f5a7c1a-8913-41ad-d4c1-d9cbc3f83776",
        "colab": {
          "base_uri": "https://localhost:8080/",
          "height": 35
        }
      },
      "outputs": [
        {
          "output_type": "execute_result",
          "data": {
            "text/plain": [
              "'Learn Python for AI'"
            ],
            "application/vnd.google.colaboratory.intrinsic+json": {
              "type": "string"
            }
          },
          "metadata": {},
          "execution_count": 42
        }
      ],
      "source": [
        "'Learn Python for AI' # Using Single Quotes"
      ]
    },
    {
      "cell_type": "code",
      "execution_count": 37,
      "metadata": {
        "id": "-DhlIYYiQmdT",
        "outputId": "d27f6b07-1b4a-4a9f-ec51-1d5d9b434a29",
        "colab": {
          "base_uri": "https://localhost:8080/",
          "height": 35
        }
      },
      "outputs": [
        {
          "output_type": "execute_result",
          "data": {
            "text/plain": [
              "'Isnt this fun?'"
            ],
            "application/vnd.google.colaboratory.intrinsic+json": {
              "type": "string"
            }
          },
          "metadata": {},
          "execution_count": 37
        }
      ],
      "source": [
        "'Isnt this fun?' # The backslash \\ here is to denote that you would like to use the ' symbol in a string rather than ending it"
      ]
    },
    {
      "cell_type": "code",
      "execution_count": 36,
      "metadata": {
        "id": "MyatsmwmxXWt",
        "outputId": "3b2aaae1-945d-48f3-8e08-7a4e76a66aec",
        "colab": {
          "base_uri": "https://localhost:8080/",
          "height": 35
        }
      },
      "outputs": [
        {
          "output_type": "execute_result",
          "data": {
            "text/plain": [
              "'Isnt this fun?'"
            ],
            "application/vnd.google.colaboratory.intrinsic+json": {
              "type": "string"
            }
          },
          "metadata": {},
          "execution_count": 36
        }
      ],
      "source": [
        "# This is what happens otherwise, an error will be produced as the characters after the quotes will be seen as codes by Python\n",
        "'Isnt this fun?'"
      ]
    },
    {
      "cell_type": "code",
      "source": [],
      "metadata": {
        "id": "yZ2nTHrgLEcs"
      },
      "execution_count": null,
      "outputs": []
    },
    {
      "cell_type": "code",
      "execution_count": 43,
      "metadata": {
        "id": "gTwWHZl5Qmda",
        "outputId": "345a2ba3-d447-4b3c-baf7-0749af597d2d",
        "colab": {
          "base_uri": "https://localhost:8080/",
          "height": 35
        }
      },
      "outputs": [
        {
          "output_type": "execute_result",
          "data": {
            "text/plain": [
              "'Isnt this fun? '"
            ],
            "application/vnd.google.colaboratory.intrinsic+json": {
              "type": "string"
            }
          },
          "metadata": {},
          "execution_count": 43
        }
      ],
      "source": [
        "\"Isnt this fun? \"# ...or use double quotes instead."
      ]
    },
    {
      "cell_type": "markdown",
      "metadata": {
        "id": "c9ryQH7pQmdh"
      },
      "source": [
        "In the interactive interpreter and Jupyter notebooks, the output string is enclosed in quotes and special characters are escaped with backslashes. Although this output sometimes looks different from the input (the enclosing quotes could change), the two strings are equivalent. The string is enclosed in double quotes if the string contains a single quote and no double quotes, otherwise its enclosed in single quotes. The [`print()`](https://docs.python.org/3.6/library/functions.html#print) function produces a more readable output by omitting the enclosing quotes and by printing escaped and special characters:"
      ]
    },
    {
      "cell_type": "code",
      "execution_count": 45,
      "metadata": {
        "id": "Z-V4ZOJdQmdl",
        "outputId": "8a3640c7-527b-416b-8d67-3875d1be331d",
        "colab": {
          "base_uri": "https://localhost:8080/",
          "height": 35
        }
      },
      "outputs": [
        {
          "output_type": "execute_result",
          "data": {
            "text/plain": [
              "'\"Isnt this fun?,\" she said.'"
            ],
            "application/vnd.google.colaboratory.intrinsic+json": {
              "type": "string"
            }
          },
          "metadata": {},
          "execution_count": 45
        }
      ],
      "source": [
        "'\"Isnt this fun?,\" she said.'"
      ]
    },
    {
      "cell_type": "code",
      "execution_count": 47,
      "metadata": {
        "id": "YNduUyGyQmdr",
        "outputId": "9a96a83f-d152-4243-a764-831e449a9fee",
        "colab": {
          "base_uri": "https://localhost:8080/"
        }
      },
      "outputs": [
        {
          "output_type": "stream",
          "name": "stdout",
          "text": [
            "\"Isnt this fun?,\" she said.\n"
          ]
        }
      ],
      "source": [
        "print('\"Isnt this fun?,\" she said.')"
      ]
    },
    {
      "cell_type": "code",
      "execution_count": 62,
      "metadata": {
        "id": "nQgT5TC8Qmdy",
        "outputId": "19368d05-2a36-4746-a9f1-c68aed5e463a",
        "colab": {
          "base_uri": "https://localhost:8080/",
          "height": 35
        }
      },
      "outputs": [
        {
          "output_type": "execute_result",
          "data": {
            "text/plain": [
              "'First line nSecond line'"
            ],
            "application/vnd.google.colaboratory.intrinsic+json": {
              "type": "string"
            }
          },
          "metadata": {},
          "execution_count": 62
        }
      ],
      "source": [
        "# Let's create a variable s to store our String\n",
        "\n",
        "s = 'First line nSecond line'  #\\n means newline.\n",
        "s  # Without print(), \\n is included in the output."
      ]
    },
    {
      "cell_type": "code",
      "execution_count": 60,
      "metadata": {
        "id": "zrNLwj5jQmeR",
        "outputId": "2bf557c6-73ed-4b98-e3c1-698fed724891",
        "colab": {
          "base_uri": "https://localhost:8080/"
        }
      },
      "outputs": [
        {
          "output_type": "stream",
          "name": "stdout",
          "text": [
            "First line nSecond line.\n"
          ]
        }
      ],
      "source": [
        "# Calling the print function to display the value of variable s\n",
        "print(s)  # With print(), \\n produces a new line."
      ]
    },
    {
      "cell_type": "markdown",
      "metadata": {
        "id": "6G6SLgLxQmeb"
      },
      "source": [
        "If you don't want escaped characters (prefaced by \\) to be interpreted as special characters, use raw strings by adding an r before the first quote:"
      ]
    },
    {
      "cell_type": "code",
      "execution_count": 51,
      "metadata": {
        "id": "qBzfcKtyQmed",
        "outputId": "2e2b4133-c6ea-41ca-bb53-8a07d0cd407e",
        "colab": {
          "base_uri": "https://localhost:8080/"
        }
      },
      "outputs": [
        {
          "output_type": "stream",
          "name": "stdout",
          "text": [
            "C:\\some\n",
            "ame\n"
          ]
        }
      ],
      "source": [
        "print('C:\\some\\name')  #Similar to the example above, the Print function interpretes \\n as a newline"
      ]
    },
    {
      "cell_type": "code",
      "execution_count": 50,
      "metadata": {
        "id": "SGj790mnQmej",
        "outputId": "0cf5840e-e2ed-4ecf-a5b2-2da4fb03a8c6",
        "colab": {
          "base_uri": "https://localhost:8080/"
        }
      },
      "outputs": [
        {
          "output_type": "stream",
          "name": "stdout",
          "text": [
            "C:\\some\n",
            "ame\n"
          ]
        }
      ],
      "source": [
        "print('C:\\some\\name')  #Note the usage of r here to give you the desired output"
      ]
    },
    {
      "cell_type": "markdown",
      "metadata": {
        "id": "p5Z8QaTgQmes"
      },
      "source": [
        "Because Python doesn't provide a means for creating multi-line comments, developers often just use triple quotes for this purpose. In a Jupyter notebook, however, such quotes define a string literal(anything enclosed in quotes `\"\"`) which appears as the output of a code cell:"
      ]
    },
    {
      "cell_type": "code",
      "execution_count": 66,
      "metadata": {
        "id": "sqe5LryBQmet",
        "outputId": "5e82594a-aef3-4101-82c7-b7f5b9f81295",
        "colab": {
          "base_uri": "https://localhost:8080/",
          "height": 106
        }
      },
      "outputs": [
        {
          "output_type": "error",
          "ename": "SyntaxError",
          "evalue": "unterminated string literal (detected at line 4) (<ipython-input-66-fad105eabea7>, line 4)",
          "traceback": [
            "\u001b[0;36m  File \u001b[0;32m\"<ipython-input-66-fad105eabea7>\"\u001b[0;36m, line \u001b[0;32m4\u001b[0m\n\u001b[0;31m    simply sees the comment as a string, and because it's not otherwise\u001b[0m\n\u001b[0m                                                       ^\u001b[0m\n\u001b[0;31mSyntaxError\u001b[0m\u001b[0;31m:\u001b[0m unterminated string literal (detected at line 4)\n"
          ]
        }
      ],
      "source": [
        "###\n",
        "\"\"\"Everything between the first three quotes, including new lines,\n",
        "is part of the multi-line comment. Technically, the Python interpreter\n",
        "simply sees the comment as a string, and because it's not otherwise\n",
        "used in code, the string is ignored. Convenient, eh?\"\"\""
      ]
    },
    {
      "cell_type": "markdown",
      "metadata": {
        "id": "HXALjwFTQmez"
      },
      "source": [
        "For this reason, it's best in notebooks to use the # comment character at the beginning of each line, or better still, just use a Markdown cell!"
      ]
    },
    {
      "cell_type": "markdown",
      "metadata": {
        "id": "dJG-u4boxXW1"
      },
      "source": [
        "## Data manipulation"
      ]
    },
    {
      "cell_type": "markdown",
      "metadata": {
        "id": "M85gTBmlxXW1"
      },
      "source": [
        "Data manipulation is any change of data from the original, this can be as minor as sorting sentences or words by alphabetical order, or more advanced using libraries such as NumPy which we shall explore in the later sessions.\n",
        "For the purpose of this introduction, we shall explore some techniques and methods of data manipulation done on Strings"
      ]
    },
    {
      "cell_type": "markdown",
      "metadata": {
        "id": "eup4gJ1jQme0"
      },
      "source": [
        "Strings can be concatenated (joined together) with the + operator, and repeated with *:"
      ]
    },
    {
      "cell_type": "code",
      "execution_count": 67,
      "metadata": {
        "id": "sUTuSJzCQme5",
        "outputId": "89aec27a-6e8f-4d3b-8b1e-b3fc1084f27c",
        "colab": {
          "base_uri": "https://localhost:8080/",
          "height": 35
        }
      },
      "outputs": [
        {
          "output_type": "execute_result",
          "data": {
            "text/plain": [
              "'jojorabbit'"
            ],
            "application/vnd.google.colaboratory.intrinsic+json": {
              "type": "string"
            }
          },
          "metadata": {},
          "execution_count": 67
        }
      ],
      "source": [
        "# 2 times 'jo', followed by 'rabbit'\n",
        "2 * 'jo' + 'rabbit'"
      ]
    },
    {
      "cell_type": "markdown",
      "metadata": {
        "id": "LbZ5XN4eQmfD"
      },
      "source": [
        "Two or more *string literals* (that is, the values enclosed in quotes `\"\"` or `''`) placed next to each other are automatically concatenated(joined together):"
      ]
    },
    {
      "cell_type": "code",
      "execution_count": 68,
      "metadata": {
        "id": "8EJSUOYZQmfF",
        "outputId": "e812bd71-53c8-4539-ca64-83ef377f05aa",
        "colab": {
          "base_uri": "https://localhost:8080/",
          "height": 35
        }
      },
      "outputs": [
        {
          "output_type": "execute_result",
          "data": {
            "text/plain": [
              "'DataScience'"
            ],
            "application/vnd.google.colaboratory.intrinsic+json": {
              "type": "string"
            }
          },
          "metadata": {},
          "execution_count": 68
        }
      ],
      "source": [
        "'Data' 'Science'"
      ]
    },
    {
      "cell_type": "markdown",
      "metadata": {
        "id": "GqU_BqTqQmfO"
      },
      "source": [
        "Automatic concatenation works only with two literals; it does not work with variables or expressions, so the following cell produces an error:"
      ]
    },
    {
      "cell_type": "code",
      "execution_count": 69,
      "metadata": {
        "id": "aa1PwEOEQmfR"
      },
      "outputs": [],
      "source": [
        "prefix = 'Data'\n",
        "prefix = 'Science'  # Can't concatenate a variable and a string literal."
      ]
    },
    {
      "cell_type": "markdown",
      "metadata": {
        "id": "v3LzmfQKQmfg"
      },
      "source": [
        "To concatenate variables, or a variable and a literal, use `+`:"
      ]
    },
    {
      "cell_type": "code",
      "execution_count": 70,
      "metadata": {
        "id": "_uTJcvaoQmfh",
        "outputId": "06d87143-d1c3-4de9-d779-dc28a1221217",
        "colab": {
          "base_uri": "https://localhost:8080/",
          "height": 35
        }
      },
      "outputs": [
        {
          "output_type": "execute_result",
          "data": {
            "text/plain": [
              "'DataScience'"
            ],
            "application/vnd.google.colaboratory.intrinsic+json": {
              "type": "string"
            }
          },
          "metadata": {},
          "execution_count": 70
        }
      ],
      "source": [
        "prefix = 'Data'\n",
        "prefix + 'Science'"
      ]
    },
    {
      "cell_type": "markdown",
      "metadata": {
        "id": "XfOmYJJzQmfp"
      },
      "source": [
        "Automatic concatenation is particularly useful when you want to break up long strings:"
      ]
    },
    {
      "cell_type": "code",
      "execution_count": 71,
      "metadata": {
        "id": "p3vWqWmMQmfq",
        "outputId": "fc64fb10-5cb5-49ff-80ce-c0aed11782ee",
        "colab": {
          "base_uri": "https://localhost:8080/",
          "height": 35
        }
      },
      "outputs": [
        {
          "output_type": "execute_result",
          "data": {
            "text/plain": [
              "'Put several strings within parentheses to have them joined together.'"
            ],
            "application/vnd.google.colaboratory.intrinsic+json": {
              "type": "string"
            }
          },
          "metadata": {},
          "execution_count": 71
        }
      ],
      "source": [
        "word = ('Put several strings within parentheses '\n",
        "            'to have them joined together.')\n",
        "word"
      ]
    },
    {
      "cell_type": "markdown",
      "metadata": {
        "id": "0dyGmFHsQmf7"
      },
      "source": [
        "**Note: In programming, the first number is actually 0! Look up `Zero-based numbering` for more details**\n",
        "\n",
        "Strings can be *indexed* (subscripted), with the first character having index 0. There is no separate `character` data type; a character is simply a `string` with 1 element"
      ]
    },
    {
      "cell_type": "code",
      "execution_count": 74,
      "metadata": {
        "id": "R5pRQeAxQmf8",
        "outputId": "96a2f421-c895-4cda-e1ae-31165c241067",
        "colab": {
          "base_uri": "https://localhost:8080/"
        }
      },
      "outputs": [
        {
          "output_type": "stream",
          "name": "stdout",
          "text": [
            "Length of the word Python is: 6\n",
            "P\n"
          ]
        }
      ],
      "source": [
        "word = 'Python'\n",
        "print(\"Length of the word Python is:\",len(word)) # This gives you 6\n",
        "\n",
        "print(word[0])  # This gives you 'P' the first character of the string 'Python'"
      ]
    },
    {
      "cell_type": "code",
      "execution_count": 75,
      "metadata": {
        "id": "oBY5JpVZQmgB",
        "outputId": "5310ebf4-b751-40b1-a5e2-0d508b3b0850",
        "colab": {
          "base_uri": "https://localhost:8080/",
          "height": 35
        }
      },
      "outputs": [
        {
          "output_type": "execute_result",
          "data": {
            "text/plain": [
              "'n'"
            ],
            "application/vnd.google.colaboratory.intrinsic+json": {
              "type": "string"
            }
          },
          "metadata": {},
          "execution_count": 75
        }
      ],
      "source": [
        "word[5]  # This gives you'n' the last character of the string 'Python'"
      ]
    },
    {
      "cell_type": "markdown",
      "metadata": {
        "id": "u0iG8Mv1QmgO"
      },
      "source": [
        "Indices may also be negative numbers, which means to start counting from the end of the string. Note that because -0 is the same as 0, negative indices start from -1:"
      ]
    },
    {
      "cell_type": "code",
      "execution_count": 76,
      "metadata": {
        "id": "aEvFYp9CQmgR",
        "outputId": "95d1a0f1-c662-46e5-9399-d13bf543542b",
        "colab": {
          "base_uri": "https://localhost:8080/",
          "height": 35
        }
      },
      "outputs": [
        {
          "output_type": "execute_result",
          "data": {
            "text/plain": [
              "'n'"
            ],
            "application/vnd.google.colaboratory.intrinsic+json": {
              "type": "string"
            }
          },
          "metadata": {},
          "execution_count": 76
        }
      ],
      "source": [
        "word[-1]  # Last character."
      ]
    },
    {
      "cell_type": "code",
      "execution_count": 77,
      "metadata": {
        "id": "OiWEhZF2Qmgh",
        "outputId": "0ddb0357-8f96-4cbc-94f1-79ed3e61f52e",
        "colab": {
          "base_uri": "https://localhost:8080/",
          "height": 35
        }
      },
      "outputs": [
        {
          "output_type": "execute_result",
          "data": {
            "text/plain": [
              "'o'"
            ],
            "application/vnd.google.colaboratory.intrinsic+json": {
              "type": "string"
            }
          },
          "metadata": {},
          "execution_count": 77
        }
      ],
      "source": [
        "word[-2]  # Second-last character."
      ]
    },
    {
      "cell_type": "markdown",
      "metadata": {
        "id": "lj2Ie4OeQmg1"
      },
      "source": [
        "In addition to indexing, which extracts individual characters, Python also supports *slicing*, which extracts a substring. To slice, you indicate a *range*(In math, range is defined as the difference between the highest and lowest values, for example range of `3:9` is 9 - 3 = `6`) in the format `start:end`, where the start position is included but the end position is excluded:"
      ]
    },
    {
      "cell_type": "code",
      "execution_count": 78,
      "metadata": {
        "id": "pPHrYlSjQmg2",
        "outputId": "76c8a737-ba41-4b6a-e720-7761093eb280",
        "colab": {
          "base_uri": "https://localhost:8080/",
          "height": 35
        }
      },
      "outputs": [
        {
          "output_type": "execute_result",
          "data": {
            "text/plain": [
              "'Py'"
            ],
            "application/vnd.google.colaboratory.intrinsic+json": {
              "type": "string"
            }
          },
          "metadata": {},
          "execution_count": 78
        }
      ],
      "source": [
        "word[0:2]  # Only characters in the range of position 0 to 2."
      ]
    },
    {
      "cell_type": "code",
      "execution_count": 79,
      "metadata": {
        "id": "Mqr4JdOhQmhI",
        "outputId": "febc17b7-5cfd-4335-b894-f87c562f9765",
        "colab": {
          "base_uri": "https://localhost:8080/",
          "height": 35
        }
      },
      "outputs": [
        {
          "output_type": "execute_result",
          "data": {
            "text/plain": [
              "'tho'"
            ],
            "application/vnd.google.colaboratory.intrinsic+json": {
              "type": "string"
            }
          },
          "metadata": {},
          "execution_count": 79
        }
      ],
      "source": [
        "word[2:5]  # Only characters in the range of position 2 to 5"
      ]
    },
    {
      "cell_type": "markdown",
      "metadata": {
        "id": "j-Btdoi0QmhO"
      },
      "source": [
        "If you omit either position, the default start position is 0 and the default end is the length of the string:"
      ]
    },
    {
      "cell_type": "code",
      "execution_count": 80,
      "metadata": {
        "id": "zDAh6H1vQmhQ",
        "outputId": "1ddf94ed-0aef-46fc-ece2-ce5ea458a80d",
        "colab": {
          "base_uri": "https://localhost:8080/",
          "height": 35
        }
      },
      "outputs": [
        {
          "output_type": "execute_result",
          "data": {
            "text/plain": [
              "'Py'"
            ],
            "application/vnd.google.colaboratory.intrinsic+json": {
              "type": "string"
            }
          },
          "metadata": {},
          "execution_count": 80
        }
      ],
      "source": [
        "word[:2]   # :2 is 0 to 2"
      ]
    },
    {
      "cell_type": "code",
      "execution_count": 81,
      "metadata": {
        "id": "t6hWlz4fQmhg",
        "outputId": "771d27ac-b567-48ff-aa9b-7c6e8dabcb3a",
        "colab": {
          "base_uri": "https://localhost:8080/",
          "height": 35
        }
      },
      "outputs": [
        {
          "output_type": "execute_result",
          "data": {
            "text/plain": [
              "'on'"
            ],
            "application/vnd.google.colaboratory.intrinsic+json": {
              "type": "string"
            }
          },
          "metadata": {},
          "execution_count": 81
        }
      ],
      "source": [
        "word[4:]  # 4: is 4 to 5"
      ]
    },
    {
      "cell_type": "code",
      "execution_count": 82,
      "metadata": {
        "id": "5sdb_spFQmhm",
        "outputId": "47cdface-7816-4cc7-ef1d-354ca30e8ec9",
        "colab": {
          "base_uri": "https://localhost:8080/",
          "height": 35
        }
      },
      "outputs": [
        {
          "output_type": "execute_result",
          "data": {
            "text/plain": [
              "'on'"
            ],
            "application/vnd.google.colaboratory.intrinsic+json": {
              "type": "string"
            }
          },
          "metadata": {},
          "execution_count": 82
        }
      ],
      "source": [
        "# This one is tricky! -2 is the 2nd last character, so this is equivalent to the above\n",
        "word[-2:]"
      ]
    },
    {
      "cell_type": "markdown",
      "metadata": {
        "id": "48MTfYuVQmh1"
      },
      "source": [
        "One way to remember how slices work is to think of the indices as pointing between characters, with the left edge of the first character numbered 0. Then the right edge of the last character of a string of *n* characters has index *n*. For example:"
      ]
    },
    {
      "cell_type": "raw",
      "metadata": {
        "id": "--UwXTMOQmh2"
      },
      "source": [
        "```\n",
        "+---+---+---+---+---+---+\n",
        "| P | y | t | h | o | n |\n",
        "+---+---+---+---+---+---+\n",
        "0   1   2   3   4   5   6\n",
        "-6  -5  -4  -3  -2  -1\n",
        "```"
      ]
    },
    {
      "cell_type": "markdown",
      "metadata": {
        "id": "D-wwcTQnQmh7"
      },
      "source": [
        "The first row of numbers gives the position of the indices 0...6 in the string; the second row gives the corresponding negative indices. The slice from *i* to *j* consists of all characters between the edges labeled *i* and *j*, respectively.\n",
        "\n",
        "For non-negative indices, the length of a slice is the difference of the indices, if both are within bounds. For example, the length of `word[1:3]` is 2.\n",
        "\n",
        "Attempting to use an index that is too large results in an error:"
      ]
    },
    {
      "cell_type": "code",
      "execution_count": 90,
      "metadata": {
        "id": "8j-XdV25Qmh-",
        "outputId": "6587fefc-6988-4d80-9f99-1067a6d74117",
        "colab": {
          "base_uri": "https://localhost:8080/",
          "height": 35
        }
      },
      "outputs": [
        {
          "output_type": "execute_result",
          "data": {
            "text/plain": [
              "'n'"
            ],
            "application/vnd.google.colaboratory.intrinsic+json": {
              "type": "string"
            }
          },
          "metadata": {},
          "execution_count": 90
        }
      ],
      "source": [
        "word[5]  #The word only has 6 characters."
      ]
    },
    {
      "cell_type": "markdown",
      "metadata": {
        "id": "yOVskCFIQmiS"
      },
      "source": [
        "However, when used in a range, an index that's too large defaults to the size of the string and does not give an error. This characteristic is useful when you always want to slice at a particular index regardless of the length of a string:"
      ]
    },
    {
      "cell_type": "code",
      "execution_count": 91,
      "metadata": {
        "id": "c6d0XUWoQmiV",
        "outputId": "5ae82b08-40a5-470f-87da-777adb76ab09",
        "colab": {
          "base_uri": "https://localhost:8080/",
          "height": 35
        }
      },
      "outputs": [
        {
          "output_type": "execute_result",
          "data": {
            "text/plain": [
              "'on'"
            ],
            "application/vnd.google.colaboratory.intrinsic+json": {
              "type": "string"
            }
          },
          "metadata": {},
          "execution_count": 91
        }
      ],
      "source": [
        "word[4:36]"
      ]
    },
    {
      "cell_type": "markdown",
      "metadata": {
        "id": "8MjXu2B4Qmid"
      },
      "source": [
        "Strings are immutable which means they do not support assignment of a new value to an indexed postion. To know more on what immutable means, check this [link](https://docs.python.org/3.5/glossary.html#term-immutable). Let's check the example below to understand it in practise"
      ]
    },
    {
      "cell_type": "code",
      "execution_count": 93,
      "metadata": {
        "id": "iOE9BhZkQmie",
        "outputId": "4ad68015-6b9b-439d-d325-e8a97e6537aa",
        "colab": {
          "base_uri": "https://localhost:8080/",
          "height": 141
        }
      },
      "outputs": [
        {
          "output_type": "error",
          "ename": "TypeError",
          "evalue": "'str' object does not support item assignment",
          "traceback": [
            "\u001b[0;31m---------------------------------------------------------------------------\u001b[0m",
            "\u001b[0;31mTypeError\u001b[0m                                 Traceback (most recent call last)",
            "\u001b[0;32m<ipython-input-93-53278a54686e>\u001b[0m in \u001b[0;36m<cell line: 1>\u001b[0;34m()\u001b[0m\n\u001b[0;32m----> 1\u001b[0;31m \u001b[0mword\u001b[0m\u001b[0;34m[\u001b[0m\u001b[0;36m1\u001b[0m\u001b[0;34m]\u001b[0m\u001b[0;34m=\u001b[0m\u001b[0;34m'a'\u001b[0m\u001b[0;34m\u001b[0m\u001b[0;34m\u001b[0m\u001b[0m\n\u001b[0m",
            "\u001b[0;31mTypeError\u001b[0m: 'str' object does not support item assignment"
          ]
        }
      ],
      "source": [
        "word[2]='a'"
      ]
    },
    {
      "cell_type": "markdown",
      "metadata": {
        "id": "u2Q6nhiQQmik"
      },
      "source": [
        "The following cell also produces an error:"
      ]
    },
    {
      "cell_type": "code",
      "execution_count": 94,
      "metadata": {
        "id": "7sbRpYz0Qmim",
        "outputId": "92cb3c6f-f949-489d-ff67-04a2fd802134",
        "colab": {
          "base_uri": "https://localhost:8080/",
          "height": 141
        }
      },
      "outputs": [
        {
          "output_type": "error",
          "ename": "TypeError",
          "evalue": "'str' object does not support item assignment",
          "traceback": [
            "\u001b[0;31m---------------------------------------------------------------------------\u001b[0m",
            "\u001b[0;31mTypeError\u001b[0m                                 Traceback (most recent call last)",
            "\u001b[0;32m<ipython-input-94-6488bbf78f5a>\u001b[0m in \u001b[0;36m<cell line: 1>\u001b[0;34m()\u001b[0m\n\u001b[0;32m----> 1\u001b[0;31m \u001b[0mword\u001b[0m\u001b[0;34m[\u001b[0m\u001b[0;36m2\u001b[0m\u001b[0;34m:\u001b[0m\u001b[0;34m]\u001b[0m \u001b[0;34m=\u001b[0m \u001b[0;34m'py'\u001b[0m\u001b[0;34m\u001b[0m\u001b[0;34m\u001b[0m\u001b[0m\n\u001b[0m",
            "\u001b[0;31mTypeError\u001b[0m: 'str' object does not support item assignment"
          ]
        }
      ],
      "source": [
        "word[2:] = 'py'"
      ]
    },
    {
      "cell_type": "code",
      "execution_count": 94,
      "metadata": {
        "id": "iyaXnJexxXW7"
      },
      "outputs": [],
      "source": []
    },
    {
      "cell_type": "markdown",
      "metadata": {
        "id": "VXMu0dVlQmio"
      },
      "source": [
        "A slice it itself a value that you can concatenate with other values using `+`:"
      ]
    },
    {
      "cell_type": "code",
      "execution_count": 95,
      "metadata": {
        "id": "4YWQR403Qmip",
        "outputId": "ea2acc5c-e416-4da1-ae73-399b4deebca1",
        "colab": {
          "base_uri": "https://localhost:8080/",
          "height": 35
        }
      },
      "outputs": [
        {
          "output_type": "execute_result",
          "data": {
            "text/plain": [
              "'Jython'"
            ],
            "application/vnd.google.colaboratory.intrinsic+json": {
              "type": "string"
            }
          },
          "metadata": {},
          "execution_count": 95
        }
      ],
      "source": [
        "'J' + word[1:]"
      ]
    },
    {
      "cell_type": "code",
      "execution_count": 96,
      "metadata": {
        "id": "sEtHIAqMQmiw",
        "outputId": "fd8f1038-cc81-4537-df2d-d5cdcc795687",
        "colab": {
          "base_uri": "https://localhost:8080/",
          "height": 35
        }
      },
      "outputs": [
        {
          "output_type": "execute_result",
          "data": {
            "text/plain": [
              "'PyPy'"
            ],
            "application/vnd.google.colaboratory.intrinsic+json": {
              "type": "string"
            }
          },
          "metadata": {},
          "execution_count": 96
        }
      ],
      "source": [
        "word[:2] + 'Py'"
      ]
    },
    {
      "cell_type": "markdown",
      "metadata": {
        "id": "9XmlQMh1Qmiz"
      },
      "source": [
        "A slice, however, is not a string literal and cannot be used with automatic concatenation. The following code produces an error:"
      ]
    },
    {
      "cell_type": "code",
      "execution_count": 97,
      "metadata": {
        "id": "rfHvpWLzQmi0",
        "outputId": "b2a3268b-bcc9-4a4f-e8c1-b98357feb66b",
        "colab": {
          "base_uri": "https://localhost:8080/",
          "height": 106
        }
      },
      "outputs": [
        {
          "output_type": "error",
          "ename": "SyntaxError",
          "evalue": "invalid syntax (<ipython-input-97-60be1c701626>, line 1)",
          "traceback": [
            "\u001b[0;36m  File \u001b[0;32m\"<ipython-input-97-60be1c701626>\"\u001b[0;36m, line \u001b[0;32m1\u001b[0m\n\u001b[0;31m    word[:2] 'Py'    # Slice is not a literal; produces an error\u001b[0m\n\u001b[0m             ^\u001b[0m\n\u001b[0;31mSyntaxError\u001b[0m\u001b[0;31m:\u001b[0m invalid syntax\n"
          ]
        }
      ],
      "source": [
        "word[:2] 'Py'    # Slice is not a literal; produces an error"
      ]
    },
    {
      "cell_type": "markdown",
      "metadata": {
        "id": "7Vrgw036QmjC"
      },
      "source": [
        "The built-in function [`len()`](https://docs.python.org/3.5/library/functions.html#len) returns the length of a string:"
      ]
    },
    {
      "cell_type": "code",
      "execution_count": 98,
      "metadata": {
        "id": "9ggcwHTEQmjD",
        "outputId": "1aa3aa87-cbed-4904-8b5a-11fa8cdb4609",
        "colab": {
          "base_uri": "https://localhost:8080/"
        }
      },
      "outputs": [
        {
          "output_type": "execute_result",
          "data": {
            "text/plain": [
              "36"
            ]
          },
          "metadata": {},
          "execution_count": 98
        }
      ],
      "source": [
        "text = 'Using Python for data science is fun'\n",
        "len(text) #Notice that even the spaces are counted in the length"
      ]
    },
    {
      "cell_type": "markdown",
      "metadata": {
        "id": "bzBdwrZEQmjK"
      },
      "source": [
        "# Lists"
      ]
    },
    {
      "cell_type": "markdown",
      "metadata": {
        "id": "yT6OJlclQmjL"
      },
      "source": [
        "A list is an **ordered** sequence of items, meaning items in the list are stored in the `order` of which it was input.\n",
        "Remember, a list may contain different types of items.\n",
        "To define a list, you must put values separated with commas in square brackets."
      ]
    },
    {
      "cell_type": "code",
      "execution_count": null,
      "metadata": {
        "id": "8SBi7hzbQmjM",
        "outputId": "f20bbf09-dcfa-442d-c8a0-d051f5b551da"
      },
      "outputs": [
        {
          "data": {
            "text/plain": [
              "list"
            ]
          },
          "execution_count": 49,
          "metadata": {},
          "output_type": "execute_result"
        }
      ],
      "source": [
        "Students=['Vicky',25,'Jun Kai',12] # Here the name of the student is stored with their respective roll numbers\n",
        "type(Students)"
      ]
    },
    {
      "cell_type": "markdown",
      "metadata": {
        "id": "1AbKito1QmjT"
      },
      "source": [
        "Lists are mutable(can be changed or updated) unlike Strings. Like strings (and all other built-in [sequence](https://docs.python.org/3.5/glossary.html#term-sequence) types), lists can be indexed and sliced:"
      ]
    },
    {
      "cell_type": "code",
      "execution_count": 99,
      "metadata": {
        "id": "rsaF8QBZQmjU",
        "outputId": "408b4ab7-5f39-42bf-a0a6-c5a85e1dcdbf",
        "colab": {
          "base_uri": "https://localhost:8080/",
          "height": 141
        }
      },
      "outputs": [
        {
          "output_type": "error",
          "ename": "NameError",
          "evalue": "name 'Students' is not defined",
          "traceback": [
            "\u001b[0;31m---------------------------------------------------------------------------\u001b[0m",
            "\u001b[0;31mNameError\u001b[0m                                 Traceback (most recent call last)",
            "\u001b[0;32m<ipython-input-99-b110468094e9>\u001b[0m in \u001b[0;36m<cell line: 1>\u001b[0;34m()\u001b[0m\n\u001b[0;32m----> 1\u001b[0;31m \u001b[0mStudents\u001b[0m\u001b[0;34m[\u001b[0m\u001b[0;36m0\u001b[0m\u001b[0;34m]\u001b[0m  \u001b[0;31m# Indexing returns the item.\u001b[0m\u001b[0;34m\u001b[0m\u001b[0;34m\u001b[0m\u001b[0m\n\u001b[0m",
            "\u001b[0;31mNameError\u001b[0m: name 'Students' is not defined"
          ]
        }
      ],
      "source": [
        "Students[0]  # Indexing returns the item."
      ]
    },
    {
      "cell_type": "code",
      "execution_count": 100,
      "metadata": {
        "id": "Tyus-1dWQmjc",
        "outputId": "ed116154-69f1-4e83-c350-d7edbb2d4a13",
        "colab": {
          "base_uri": "https://localhost:8080/",
          "height": 141
        }
      },
      "outputs": [
        {
          "output_type": "error",
          "ename": "NameError",
          "evalue": "name 'Students' is not defined",
          "traceback": [
            "\u001b[0;31m---------------------------------------------------------------------------\u001b[0m",
            "\u001b[0;31mNameError\u001b[0m                                 Traceback (most recent call last)",
            "\u001b[0;32m<ipython-input-100-1940fd68c654>\u001b[0m in \u001b[0;36m<cell line: 1>\u001b[0;34m()\u001b[0m\n\u001b[0;32m----> 1\u001b[0;31m \u001b[0mStudents\u001b[0m\u001b[0;34m[\u001b[0m\u001b[0;34m-\u001b[0m\u001b[0;36m1\u001b[0m\u001b[0;34m]\u001b[0m\u001b[0;34m\u001b[0m\u001b[0;34m\u001b[0m\u001b[0m\n\u001b[0m",
            "\u001b[0;31mNameError\u001b[0m: name 'Students' is not defined"
          ]
        }
      ],
      "source": [
        "Students[-1]"
      ]
    },
    {
      "cell_type": "code",
      "execution_count": null,
      "metadata": {
        "id": "nt7XfmgPQmjz",
        "outputId": "c8d1c0fe-fad8-48a2-d2cf-76a9bb36980d"
      },
      "outputs": [
        {
          "data": {
            "text/plain": [
              "[25, 'Jun Kai', 12]"
            ]
          },
          "execution_count": 52,
          "metadata": {},
          "output_type": "execute_result"
        }
      ],
      "source": [
        "Students[-3:]  # Slicing returns a new list."
      ]
    },
    {
      "cell_type": "code",
      "execution_count": 102,
      "metadata": {
        "id": "Vecj91UrQmkH",
        "outputId": "4a1f26d6-2cbd-4e40-b2bc-c568c86da00f",
        "colab": {
          "base_uri": "https://localhost:8080/",
          "height": 141
        }
      },
      "outputs": [
        {
          "output_type": "error",
          "ename": "NameError",
          "evalue": "name 'Students' is not defined",
          "traceback": [
            "\u001b[0;31m---------------------------------------------------------------------------\u001b[0m",
            "\u001b[0;31mNameError\u001b[0m                                 Traceback (most recent call last)",
            "\u001b[0;32m<ipython-input-102-25f7e2017511>\u001b[0m in \u001b[0;36m<cell line: 1>\u001b[0;34m()\u001b[0m\n\u001b[0;32m----> 1\u001b[0;31m \u001b[0mStudents\u001b[0m\u001b[0;34m[\u001b[0m\u001b[0;34m:\u001b[0m\u001b[0;34m]\u001b[0m\u001b[0;34m\u001b[0m\u001b[0;34m\u001b[0m\u001b[0m\n\u001b[0m",
            "\u001b[0;31mNameError\u001b[0m: name 'Students' is not defined"
          ]
        }
      ],
      "source": [
        "Students[:]"
      ]
    },
    {
      "cell_type": "markdown",
      "metadata": {
        "id": "ljUfZHHkQmkQ"
      },
      "source": [
        "Lists also support concatenation with the `+` operator:"
      ]
    },
    {
      "cell_type": "code",
      "execution_count": null,
      "metadata": {
        "id": "aXKpnbZkQmkQ",
        "outputId": "22364571-13e5-4f87-e5a6-ef77992f1e35"
      },
      "outputs": [
        {
          "data": {
            "text/plain": [
              "['Vicky', 25, 'Jun Kai', 12, 'Gabrielle', 13, 'Cao', 47]"
            ]
          },
          "execution_count": 54,
          "metadata": {},
          "output_type": "execute_result"
        }
      ],
      "source": [
        "Students + ['Gabrielle',13, 'Cao', 47]"
      ]
    },
    {
      "cell_type": "markdown",
      "metadata": {
        "id": "LINx1gxIQmkb"
      },
      "source": [
        "As mentioned at the start, unlike strings, which are immutable, lists are a mutable type, which means you can change any value in the list:"
      ]
    },
    {
      "cell_type": "code",
      "execution_count": null,
      "metadata": {
        "id": "uVF_y-ZiQmki"
      },
      "outputs": [],
      "source": [
        "Students=['Vicky',25,'Jun Kai',12] #Something is wrong here....\n",
        "#Vicky's roll number is 10"
      ]
    },
    {
      "cell_type": "code",
      "execution_count": 103,
      "metadata": {
        "id": "lFCru_AMQmkm",
        "outputId": "5c476d2a-129c-4962-ca4e-6e5440eb0055",
        "colab": {
          "base_uri": "https://localhost:8080/",
          "height": 158
        }
      },
      "outputs": [
        {
          "output_type": "error",
          "ename": "NameError",
          "evalue": "name 'Students' is not defined",
          "traceback": [
            "\u001b[0;31m---------------------------------------------------------------------------\u001b[0m",
            "\u001b[0;31mNameError\u001b[0m                                 Traceback (most recent call last)",
            "\u001b[0;32m<ipython-input-103-b7a7534db5c0>\u001b[0m in \u001b[0;36m<cell line: 1>\u001b[0;34m()\u001b[0m\n\u001b[0;32m----> 1\u001b[0;31m \u001b[0mStudents\u001b[0m\u001b[0;34m[\u001b[0m\u001b[0;36m1\u001b[0m\u001b[0;34m]\u001b[0m\u001b[0;34m=\u001b[0m\u001b[0;36m10\u001b[0m \u001b[0;31m#correcting the wrong value\u001b[0m\u001b[0;34m\u001b[0m\u001b[0;34m\u001b[0m\u001b[0m\n\u001b[0m\u001b[1;32m      2\u001b[0m \u001b[0mStudents\u001b[0m\u001b[0;34m\u001b[0m\u001b[0;34m\u001b[0m\u001b[0m\n",
            "\u001b[0;31mNameError\u001b[0m: name 'Students' is not defined"
          ]
        }
      ],
      "source": [
        "Students[1]=10 #correcting the wrong value\n",
        "Students"
      ]
    },
    {
      "cell_type": "markdown",
      "metadata": {
        "id": "9G9-ltu8Qmks"
      },
      "source": [
        "Use the list's `append()` method to add new items to the end of the list:"
      ]
    },
    {
      "cell_type": "code",
      "execution_count": 104,
      "metadata": {
        "id": "AEh8DPBWQmkt",
        "outputId": "833fc79b-5302-4fb2-879b-27541692c548",
        "colab": {
          "base_uri": "https://localhost:8080/",
          "height": 158
        }
      },
      "outputs": [
        {
          "output_type": "error",
          "ename": "NameError",
          "evalue": "name 'Students' is not defined",
          "traceback": [
            "\u001b[0;31m---------------------------------------------------------------------------\u001b[0m",
            "\u001b[0;31mNameError\u001b[0m                                 Traceback (most recent call last)",
            "\u001b[0;32m<ipython-input-104-67eed75a42e0>\u001b[0m in \u001b[0;36m<cell line: 1>\u001b[0;34m()\u001b[0m\n\u001b[0;32m----> 1\u001b[0;31m \u001b[0mStudents\u001b[0m\u001b[0;34m.\u001b[0m\u001b[0mappend\u001b[0m\u001b[0;34m(\u001b[0m\u001b[0;34m'Isaac'\u001b[0m\u001b[0;34m)\u001b[0m \u001b[0;31m#Note you can only add one argument at a time\u001b[0m\u001b[0;34m\u001b[0m\u001b[0;34m\u001b[0m\u001b[0m\n\u001b[0m\u001b[1;32m      2\u001b[0m \u001b[0mStudents\u001b[0m\u001b[0;34m\u001b[0m\u001b[0;34m\u001b[0m\u001b[0m\n",
            "\u001b[0;31mNameError\u001b[0m: name 'Students' is not defined"
          ]
        }
      ],
      "source": [
        "Students.append('Isaac') #Note you can only add one argument at a time\n",
        "Students\n"
      ]
    },
    {
      "cell_type": "code",
      "execution_count": 105,
      "metadata": {
        "id": "pk3in1B9Qmky",
        "outputId": "a5aada55-c72e-4392-90c1-a3661cedb920",
        "colab": {
          "base_uri": "https://localhost:8080/",
          "height": 158
        }
      },
      "outputs": [
        {
          "output_type": "error",
          "ename": "NameError",
          "evalue": "name 'Students' is not defined",
          "traceback": [
            "\u001b[0;31m---------------------------------------------------------------------------\u001b[0m",
            "\u001b[0;31mNameError\u001b[0m                                 Traceback (most recent call last)",
            "\u001b[0;32m<ipython-input-105-143ddd5f3370>\u001b[0m in \u001b[0;36m<cell line: 1>\u001b[0;34m()\u001b[0m\n\u001b[0;32m----> 1\u001b[0;31m \u001b[0mStudents\u001b[0m\u001b[0;34m.\u001b[0m\u001b[0mappend\u001b[0m\u001b[0;34m(\u001b[0m\u001b[0;36m15\u001b[0m\u001b[0;34m)\u001b[0m \u001b[0;31m#Adding the second argument\u001b[0m\u001b[0;34m\u001b[0m\u001b[0;34m\u001b[0m\u001b[0m\n\u001b[0m\u001b[1;32m      2\u001b[0m \u001b[0mStudents\u001b[0m\u001b[0;34m\u001b[0m\u001b[0;34m\u001b[0m\u001b[0m\n",
            "\u001b[0;31mNameError\u001b[0m: name 'Students' is not defined"
          ]
        }
      ],
      "source": [
        "Students.append(15) #Adding the second argument\n",
        "Students"
      ]
    },
    {
      "cell_type": "markdown",
      "metadata": {
        "id": "oqCY4CtCQmk4"
      },
      "source": [
        "You can even assign to slices, which can change the size of the list or clear it entirely:"
      ]
    },
    {
      "cell_type": "code",
      "execution_count": 110,
      "metadata": {
        "id": "z4FEGFWyQmk6",
        "outputId": "d42df4ea-aef9-46b7-eb6a-d6f836ddb131",
        "colab": {
          "base_uri": "https://localhost:8080/",
          "height": 176
        }
      },
      "outputs": [
        {
          "output_type": "error",
          "ename": "NameError",
          "evalue": "name 'Students' is not defined",
          "traceback": [
            "\u001b[0;31m---------------------------------------------------------------------------\u001b[0m",
            "\u001b[0;31mNameError\u001b[0m                                 Traceback (most recent call last)",
            "\u001b[0;32m<ipython-input-110-4f030e9e5bf1>\u001b[0m in \u001b[0;36m<cell line: 2>\u001b[0;34m()\u001b[0m\n\u001b[1;32m      1\u001b[0m \u001b[0;31m#Replace some values\u001b[0m\u001b[0;34m\u001b[0m\u001b[0;34m\u001b[0m\u001b[0m\n\u001b[0;32m----> 2\u001b[0;31m \u001b[0mStudents\u001b[0m\u001b[0;34m[\u001b[0m\u001b[0;36m2\u001b[0m\u001b[0;34m:\u001b[0m\u001b[0;36m5\u001b[0m\u001b[0;34m]\u001b[0m\u001b[0;34m=\u001b[0m\u001b[0;34m[\u001b[0m\u001b[0;34m'Ming Ian'\u001b[0m\u001b[0;34m,\u001b[0m \u001b[0;36m21\u001b[0m\u001b[0;34m]\u001b[0m\u001b[0;34m\u001b[0m\u001b[0;34m\u001b[0m\u001b[0m\n\u001b[0m\u001b[1;32m      3\u001b[0m \u001b[0mStudents\u001b[0m\u001b[0;34m\u001b[0m\u001b[0;34m\u001b[0m\u001b[0m\n",
            "\u001b[0;31mNameError\u001b[0m: name 'Students' is not defined"
          ]
        }
      ],
      "source": [
        "#Replace some values\n",
        "Students[2:5]=['Ming Ian', 21]\n",
        "Students"
      ]
    },
    {
      "cell_type": "code",
      "execution_count": 106,
      "metadata": {
        "id": "cLaFnrqhQmlA",
        "outputId": "043414dd-c7a8-4d70-8f16-ced059622333",
        "colab": {
          "base_uri": "https://localhost:8080/",
          "height": 176
        }
      },
      "outputs": [
        {
          "output_type": "error",
          "ename": "NameError",
          "evalue": "name 'Students' is not defined",
          "traceback": [
            "\u001b[0;31m---------------------------------------------------------------------------\u001b[0m",
            "\u001b[0;31mNameError\u001b[0m                                 Traceback (most recent call last)",
            "\u001b[0;32m<ipython-input-106-6a187f70d53b>\u001b[0m in \u001b[0;36m<cell line: 2>\u001b[0;34m()\u001b[0m\n\u001b[1;32m      1\u001b[0m \u001b[0;31m# Now remove them.\u001b[0m\u001b[0;34m\u001b[0m\u001b[0;34m\u001b[0m\u001b[0m\n\u001b[0;32m----> 2\u001b[0;31m \u001b[0mStudents\u001b[0m\u001b[0;34m[\u001b[0m\u001b[0;36m2\u001b[0m\u001b[0;34m:\u001b[0m\u001b[0;36m5\u001b[0m\u001b[0;34m]\u001b[0m \u001b[0;34m=\u001b[0m \u001b[0;34m[\u001b[0m\u001b[0;34m]\u001b[0m\u001b[0;34m\u001b[0m\u001b[0;34m\u001b[0m\u001b[0m\n\u001b[0m\u001b[1;32m      3\u001b[0m \u001b[0mStudents\u001b[0m\u001b[0;34m\u001b[0m\u001b[0;34m\u001b[0m\u001b[0m\n",
            "\u001b[0;31mNameError\u001b[0m: name 'Students' is not defined"
          ]
        }
      ],
      "source": [
        "# Now remove them.\n",
        "Students [2:5] = []\n",
        "Students"
      ]
    },
    {
      "cell_type": "markdown",
      "metadata": {
        "id": "BBULIWX7QmlE"
      },
      "source": [
        "The built-in len() function also applies to lists:"
      ]
    },
    {
      "cell_type": "code",
      "execution_count": 107,
      "metadata": {
        "id": "IduWyDgDQmlG",
        "outputId": "54d3cd6f-6869-414d-d775-6eb00e9b4352",
        "colab": {
          "base_uri": "https://localhost:8080/",
          "height": 141
        }
      },
      "outputs": [
        {
          "output_type": "error",
          "ename": "NameError",
          "evalue": "name 'Students' is not defined",
          "traceback": [
            "\u001b[0;31m---------------------------------------------------------------------------\u001b[0m",
            "\u001b[0;31mNameError\u001b[0m                                 Traceback (most recent call last)",
            "\u001b[0;32m<ipython-input-107-615fd2efb821>\u001b[0m in \u001b[0;36m<cell line: 1>\u001b[0;34m()\u001b[0m\n\u001b[0;32m----> 1\u001b[0;31m \u001b[0mlen\u001b[0m\u001b[0;34m(\u001b[0m\u001b[0mStudents\u001b[0m\u001b[0;34m)\u001b[0m\u001b[0;34m\u001b[0m\u001b[0;34m\u001b[0m\u001b[0m\n\u001b[0m",
            "\u001b[0;31mNameError\u001b[0m: name 'Students' is not defined"
          ]
        }
      ],
      "source": [
        "len(Students)"
      ]
    },
    {
      "cell_type": "markdown",
      "metadata": {
        "id": "RX4sCbu8QmlK"
      },
      "source": [
        "You can nest lists, which means to create lists that contain other lists. For example:"
      ]
    },
    {
      "cell_type": "code",
      "execution_count": 108,
      "metadata": {
        "id": "c9O1U64eQmlL",
        "outputId": "1b32fba5-7f6b-4537-bbcf-1d09c1b6ab65",
        "colab": {
          "base_uri": "https://localhost:8080/"
        }
      },
      "outputs": [
        {
          "output_type": "execute_result",
          "data": {
            "text/plain": [
              "[['a', 'b', 'c'], [1, 2, 3]]"
            ]
          },
          "metadata": {},
          "execution_count": 108
        }
      ],
      "source": [
        "a = ['a', 'b', 'c'] #List 1\n",
        "n = [1, 2, 3] #List 2\n",
        "x = [a, n] # List x now contains List 1 and List 2\n",
        "x"
      ]
    },
    {
      "cell_type": "code",
      "execution_count": null,
      "metadata": {
        "id": "YmCP-8eQQmlO",
        "outputId": "ab8b365f-3100-4590-d302-0188b55fdbcf"
      },
      "outputs": [
        {
          "name": "stdout",
          "output_type": "stream",
          "text": [
            "List 1: ['a', 'b', 'c']\n",
            "List 2: [1, 2, 3]\n"
          ]
        }
      ],
      "source": [
        "x[0] # The first element of the nested list is List 1\n",
        "x[1] # The second element of the nested list is list 2\n",
        "print (\"List 1:\",x[0])\n",
        "print (\"List 2:\",x[1])"
      ]
    },
    {
      "cell_type": "code",
      "execution_count": 109,
      "metadata": {
        "id": "DGgaMGogQmlT",
        "outputId": "4eed066b-d52f-4f0b-8a74-b261b01ab36a",
        "colab": {
          "base_uri": "https://localhost:8080/",
          "height": 35
        }
      },
      "outputs": [
        {
          "output_type": "execute_result",
          "data": {
            "text/plain": [
              "'b'"
            ],
            "application/vnd.google.colaboratory.intrinsic+json": {
              "type": "string"
            }
          },
          "metadata": {},
          "execution_count": 109
        }
      ],
      "source": [
        "#This would give you, the 2nd element of List 1, which is 'b'\n",
        "x[0][1]"
      ]
    },
    {
      "cell_type": "markdown",
      "metadata": {
        "id": "yR8oZIPOQmlX"
      },
      "source": [
        "# Tuples"
      ]
    },
    {
      "cell_type": "markdown",
      "metadata": {
        "id": "-4fhSP4kQmlY"
      },
      "source": [
        "A tuple is an ordered sequence of items. You might be wondering now then how is it different from lists?\n",
        "\n",
        "The main differences between tuples and lists are :\n",
        "1. Tuples cannot be modified element wise like lists (Objects which cannot be modified in such a manner are described as **immutable** objects.\n",
        "2. Tuples use parentheses, whereas lists use square brackets."
      ]
    },
    {
      "cell_type": "code",
      "execution_count": 112,
      "metadata": {
        "id": "-JaURertQmlY",
        "outputId": "958bb9f9-4d84-4a01-b1f9-17d71a3560dc",
        "colab": {
          "base_uri": "https://localhost:8080/"
        }
      },
      "outputs": [
        {
          "output_type": "stream",
          "name": "stdout",
          "text": [
            "('Susan', 25, 'John', 12)\n"
          ]
        }
      ],
      "source": [
        "Students_new = ('Susan',25,'John',12) #Tuple being defined\n",
        "print(Students_new)"
      ]
    },
    {
      "cell_type": "code",
      "execution_count": 113,
      "metadata": {
        "colab": {
          "base_uri": "https://localhost:8080/",
          "height": 158
        },
        "id": "LN0-jf8vQmlh",
        "outputId": "5fa27b43-d5d1-4ce7-c29c-3a51feb99a08"
      },
      "outputs": [
        {
          "output_type": "error",
          "ename": "TypeError",
          "evalue": "'tuple' object does not support item assignment",
          "traceback": [
            "\u001b[0;31m---------------------------------------------------------------------------\u001b[0m",
            "\u001b[0;31mTypeError\u001b[0m                                 Traceback (most recent call last)",
            "\u001b[0;32m<ipython-input-113-d7771a832364>\u001b[0m in \u001b[0;36m<cell line: 1>\u001b[0;34m()\u001b[0m\n\u001b[0;32m----> 1\u001b[0;31m \u001b[0mStudents_new\u001b[0m\u001b[0;34m[\u001b[0m\u001b[0;36m1\u001b[0m\u001b[0;34m]\u001b[0m\u001b[0;34m=\u001b[0m \u001b[0;34m'26'\u001b[0m\u001b[0;34m\u001b[0m\u001b[0;34m\u001b[0m\u001b[0m\n\u001b[0m\u001b[1;32m      2\u001b[0m \u001b[0mprint\u001b[0m\u001b[0;34m(\u001b[0m\u001b[0mStudents_new\u001b[0m\u001b[0;34m)\u001b[0m \u001b[0;31m#Notice the error which shows up in the output\u001b[0m\u001b[0;34m\u001b[0m\u001b[0;34m\u001b[0m\u001b[0m\n",
            "\u001b[0;31mTypeError\u001b[0m: 'tuple' object does not support item assignment"
          ]
        }
      ],
      "source": [
        "Students_new[1]= '26'\n",
        "print(Students_new) #Notice the error which shows up in the output"
      ]
    },
    {
      "cell_type": "markdown",
      "metadata": {
        "id": "-KWdBt3hQmlx"
      },
      "source": [
        "# Dictionary"
      ]
    },
    {
      "cell_type": "markdown",
      "metadata": {
        "id": "SJYdqkn6Qmlx"
      },
      "source": [
        "Dictionary is an unordered collection of key-value pairs.\n",
        "\n",
        "In Python, dictionaries are defined within braces {} with each item being a pair in the form **key:value**. Key and value can be of any type.\n",
        "\n",
        "A Dictionary in Python works similar to the Dictionary in a real world. Keys of a Dictionary must be unique and\n",
        "of immutable data type such as Strings, Integers and tuples, but the key-values can be repeated and be of any type.\n",
        "\n",
        "You might want to use a Dictionary over Tuples as it is quicker to access data if the data source is substantially large as finding data in Tuples requires looping which we will go through later"
      ]
    },
    {
      "cell_type": "code",
      "execution_count": 114,
      "metadata": {
        "id": "vU4akZPmQmly",
        "outputId": "f855a388-3634-4257-d550-52fd6c31eeee",
        "colab": {
          "base_uri": "https://localhost:8080/",
          "height": 35
        }
      },
      "outputs": [
        {
          "output_type": "execute_result",
          "data": {
            "text/plain": [
              "'Monday'"
            ],
            "application/vnd.google.colaboratory.intrinsic+json": {
              "type": "string"
            }
          },
          "metadata": {},
          "execution_count": 114
        }
      ],
      "source": [
        "Time={'Day':'Monday','Date':[1,2,3]}\n",
        "type(Time)\n",
        "Time['Day'] #Using key to display respective value"
      ]
    },
    {
      "cell_type": "code",
      "execution_count": 117,
      "metadata": {
        "colab": {
          "base_uri": "https://localhost:8080/",
          "height": 158
        },
        "id": "aea1nt3dQml7",
        "outputId": "16e61e52-421f-4197-e7c6-3ba737d778a2"
      },
      "outputs": [
        {
          "output_type": "error",
          "ename": "KeyError",
          "evalue": "'Monday'",
          "traceback": [
            "\u001b[0;31m---------------------------------------------------------------------------\u001b[0m",
            "\u001b[0;31mKeyError\u001b[0m                                  Traceback (most recent call last)",
            "\u001b[0;32m<ipython-input-117-607835fdbeda>\u001b[0m in \u001b[0;36m<cell line: 1>\u001b[0;34m()\u001b[0m\n\u001b[0;32m----> 1\u001b[0;31m \u001b[0mTime\u001b[0m\u001b[0;34m[\u001b[0m\u001b[0;34m'Monday'\u001b[0m\u001b[0;34m]\u001b[0m \u001b[0;31m#Reverse cannot be done, i.e using value one cannot display key\u001b[0m\u001b[0;34m\u001b[0m\u001b[0;34m\u001b[0m\u001b[0m\n\u001b[0m",
            "\u001b[0;31mKeyError\u001b[0m: 'Monday'"
          ]
        }
      ],
      "source": [
        "Time['Monday'] #Reverse cannot be done, i.e using value one cannot display key"
      ]
    },
    {
      "cell_type": "markdown",
      "metadata": {
        "id": "JMyL5VsTQml-"
      },
      "source": [
        "# Type-Conversion in Python"
      ]
    },
    {
      "cell_type": "markdown",
      "metadata": {
        "id": "YvyMdbr6Qml_"
      },
      "source": [
        "As the name suggests, type-conversion in Python is the process of converting one data type to another. This can be done into two ways :\n",
        "\n",
        "**1. Implicit Type Conversion** - In this type of type-conversion, Python automatically converts one data-type to another data-type. The user need not give specific instructions for carrying this conversion out.\n",
        "\n",
        "**2. Explicit Type Conversion** - In Explicit type-conversion, the user sets preference from converting one data-type to another desired data-type."
      ]
    },
    {
      "cell_type": "code",
      "execution_count": 118,
      "metadata": {
        "id": "Yvsni_SFQml_",
        "outputId": "2a56a0f6-c155-4936-96ea-ec0c7c359f46",
        "colab": {
          "base_uri": "https://localhost:8080/"
        }
      },
      "outputs": [
        {
          "output_type": "stream",
          "name": "stdout",
          "text": [
            "datatype of integer: <class 'int'>\n",
            "datatype of float_n: <class 'float'>\n",
            "Value of add: 151.55\n",
            "datatype of add: <class 'float'>\n"
          ]
        }
      ],
      "source": [
        "integer = 150\n",
        "float_n = 1.55\n",
        "\n",
        "add = integer + float_n\n",
        "\n",
        "print(\"datatype of integer:\",type(integer))\n",
        "print(\"datatype of float_n:\",type(float_n))\n",
        "\n",
        "print(\"Value of add:\",add)\n",
        "print(\"datatype of add:\",type(add))"
      ]
    },
    {
      "cell_type": "markdown",
      "metadata": {
        "id": "eO-lZtpMQmmC"
      },
      "source": [
        "In the above example we can clearly see how python implicitly set up the data-type of the variable 'add'. Let's try adding a string and an integer to see what happens!"
      ]
    },
    {
      "cell_type": "code",
      "execution_count": 122,
      "metadata": {
        "id": "cBq1jSD1QmmD",
        "outputId": "1d22567e-82dc-4e4e-a3b4-0d4ab7acf382",
        "colab": {
          "base_uri": "https://localhost:8080/",
          "height": 158
        }
      },
      "outputs": [
        {
          "output_type": "error",
          "ename": "TypeError",
          "evalue": "unsupported operand type(s) for +: 'int' and 'str'",
          "traceback": [
            "\u001b[0;31m---------------------------------------------------------------------------\u001b[0m",
            "\u001b[0;31mTypeError\u001b[0m                                 Traceback (most recent call last)",
            "\u001b[0;32m<ipython-input-122-d086f413d6ef>\u001b[0m in \u001b[0;36m<cell line: 2>\u001b[0;34m()\u001b[0m\n\u001b[1;32m      1\u001b[0m \u001b[0mstring\u001b[0m \u001b[0;34m=\u001b[0m \u001b[0;34m'300'\u001b[0m\u001b[0;34m\u001b[0m\u001b[0;34m\u001b[0m\u001b[0m\n\u001b[0;32m----> 2\u001b[0;31m \u001b[0mnew\u001b[0m \u001b[0;34m=\u001b[0m \u001b[0minteger\u001b[0m \u001b[0;34m+\u001b[0m \u001b[0mstring\u001b[0m\u001b[0;34m\u001b[0m\u001b[0;34m\u001b[0m\u001b[0m\n\u001b[0m",
            "\u001b[0;31mTypeError\u001b[0m: unsupported operand type(s) for +: 'int' and 'str'"
          ]
        }
      ],
      "source": [
        "string = '300'\n",
        "new = integer + string"
      ]
    },
    {
      "cell_type": "code",
      "execution_count": 123,
      "metadata": {
        "id": "Wsn7moyQQmmF",
        "outputId": "b1126f28-9903-4b80-f049-5b80fcfa9566",
        "colab": {
          "base_uri": "https://localhost:8080/"
        }
      },
      "outputs": [
        {
          "output_type": "stream",
          "name": "stdout",
          "text": [
            "Data type of integer: <class 'int'>\n",
            "Data type of string before explicit conversion: <class 'str'>\n",
            "Data type of string after explicit conversion: <class 'int'>\n",
            "Sum of integer and string: 450\n",
            "Data type of the sum: <class 'int'>\n"
          ]
        }
      ],
      "source": [
        "integer = 150\n",
        "string = \"300\"\n",
        "\n",
        "print(\"Data type of integer:\",type(integer))\n",
        "print(\"Data type of string before explicit conversion:\",type(string))\n",
        "\n",
        "string = int(string)\n",
        "print(\"Data type of string after explicit conversion:\",type(string))\n",
        "\n",
        "new = integer + string\n",
        "\n",
        "print(\"Sum of integer and string:\",new)\n",
        "print(\"Data type of the sum:\",type(new))"
      ]
    },
    {
      "cell_type": "markdown",
      "metadata": {
        "id": "h_qAJ56LQmmH"
      },
      "source": [
        "Explicit type conversion is also known as **\"Typecasting\"**. The major difference between them is the **involvement of the user** and the fact that in implicit conversion, Python gives **preference to data type which would avoid data loss**. For example if we are adding a float with an int type the result would always be float else the sum would get truncated if the result is converted into int, thus resulting in loss of data."
      ]
    },
    {
      "cell_type": "markdown",
      "metadata": {
        "id": "nkzEuoQFQmnH"
      },
      "source": [
        "# Flow Control in Python"
      ]
    },
    {
      "cell_type": "markdown",
      "metadata": {
        "id": "9vgEmdKmQmnI"
      },
      "source": [
        "In general, statements are executed sequentially: The first statement in a function is executed first, followed by the second, and so on. There may be a situation when you need to execute a block of code several number of times.\n",
        "\n",
        "Programming languages provide various control structures that allow for more complicated execution paths.\n",
        "\n",
        "A loop statement allows us to execute a statement or group of statements multiple times.\n",
        "\n",
        "For more infortmation click [here](https://www.tutorialspoint.com/python/python_loops.htm)"
      ]
    },
    {
      "cell_type": "markdown",
      "metadata": {
        "id": "aQ_lwaTLQmnI"
      },
      "source": [
        "**If-Else Statement**\n",
        "\n",
        "A situation where this may be used is when you would like to check for a condition(user-defined) to allow a particular code to execute, such as checking for password from user input."
      ]
    },
    {
      "cell_type": "code",
      "execution_count": 124,
      "metadata": {
        "id": "daALlmRhQmnJ",
        "colab": {
          "base_uri": "https://localhost:8080/"
        },
        "outputId": "620f5db1-159d-4f0f-a74c-19f87a4638ca"
      },
      "outputs": [
        {
          "output_type": "stream",
          "name": "stdout",
          "text": [
            "b\n"
          ]
        }
      ],
      "source": [
        "a,b = 2,3 #This is a way to assign values to multiple variables in the same line\n",
        "\n",
        "if a > b: #If a is greater than b, print the value of a\n",
        "    print(\"a\") #Indentation using the `Tab` key is important to denote that this print(\"a\") is for the first if statement\n",
        "else:\n",
        "    print(\"b\")#else print the value of b"
      ]
    },
    {
      "cell_type": "code",
      "execution_count": 125,
      "metadata": {
        "id": "tTChTiUOQmnN",
        "colab": {
          "base_uri": "https://localhost:8080/"
        },
        "outputId": "74f8dcfc-fb29-430f-d40f-4d3a4d2a09ea"
      },
      "outputs": [
        {
          "output_type": "stream",
          "name": "stdout",
          "text": [
            "7 is good\n"
          ]
        }
      ],
      "source": [
        "a = 7\n",
        "#If a is greater than the value 6, execute the statement below it\n",
        "if a > 6:\n",
        "     print(f\"{a} is good\")"
      ]
    },
    {
      "cell_type": "markdown",
      "metadata": {
        "id": "s4Xi17_1QmnQ"
      },
      "source": [
        "**While Loop**"
      ]
    },
    {
      "cell_type": "markdown",
      "metadata": {
        "id": "KNjNdpZKQmnR"
      },
      "source": [
        "A while loop in python iterates till its condition becomes False. In other words, it executes the statements under itself while the condition it takes is True. When the program control reaches the while loop, the condition is checked. If the condition is true, the block of code under it is executed. Remember to indent all statements under the loop equally. After that, the condition is checked again. This continues until the condition becomes false. Then, the first statement, if any, after the loop is executed."
      ]
    },
    {
      "cell_type": "code",
      "execution_count": 126,
      "metadata": {
        "id": "4xYqCDhzQmnR",
        "colab": {
          "base_uri": "https://localhost:8080/"
        },
        "outputId": "d7c19899-1ac2-4908-addd-389bea4d1e34"
      },
      "outputs": [
        {
          "output_type": "stream",
          "name": "stdout",
          "text": [
            "0\n",
            "1\n",
            "2\n",
            "3\n",
            "4\n",
            "5\n",
            "6\n",
            "7\n",
            "8\n",
            "Loop has ended at 8, can you tell why?\n"
          ]
        }
      ],
      "source": [
        "a = 0 #Assign the value 0 to the variable a\n",
        "\n",
        "#The condition of this loop is to run *while* the value of a is LESS THAN 9\n",
        "while(a < 9):\n",
        "    print(a) #This print is to demonstrate how the condition functions in a loop using an number increment\n",
        "    a += 1\n",
        "\n",
        "print(\"Loop has ended at 8, can you tell why?\")\n"
      ]
    },
    {
      "cell_type": "markdown",
      "metadata": {
        "id": "4dmfDaPaQmnU"
      },
      "source": [
        "**For Loop**"
      ]
    },
    {
      "cell_type": "markdown",
      "metadata": {
        "id": "uxse4FUPQmnV"
      },
      "source": [
        "A for loop does the same thing as the example in the while loop, but makes it simpler to write and understand. For more information, click [here](https://data-flair.training/blogs/python-loop/)"
      ]
    },
    {
      "cell_type": "code",
      "execution_count": null,
      "metadata": {
        "id": "7aXCgeP4QmnW"
      },
      "outputs": [],
      "source": [
        "for i in range(10): #This statement creates a for loop that runs 10 times and stops\n",
        "    print(i)"
      ]
    },
    {
      "cell_type": "code",
      "execution_count": 127,
      "metadata": {
        "id": "GdHwjGagQmne",
        "colab": {
          "base_uri": "https://localhost:8080/"
        },
        "outputId": "6d08cf61-acb9-4235-bcf2-0fd066f55f4a"
      },
      "outputs": [
        {
          "output_type": "stream",
          "name": "stdout",
          "text": [
            "[0, 1]\n",
            "[0, 1, 1]\n",
            "[0, 1, 1, 2]\n",
            "[0, 1, 1, 2, 3]\n",
            "[0, 1, 1, 2, 3, 5]\n",
            "[0, 1, 1, 2, 3, 5, 8]\n",
            "[0, 1, 1, 2, 3, 5, 8, 13]\n",
            "[0, 1, 1, 2, 3, 5, 8, 13, 21]\n",
            "[0, 1, 1, 2, 3, 5, 8, 13, 21, 34]\n",
            "[0, 1, 1, 2, 3, 5, 8, 13, 21, 34, 55]\n"
          ]
        }
      ],
      "source": [
        "lst=[0,1]\n",
        "\n",
        "for i in range(10):\n",
        "    print(lst)\n",
        "    lst.append(lst[-1]+lst[-2])"
      ]
    },
    {
      "cell_type": "markdown",
      "metadata": {
        "id": "ud4i--ByxXXG"
      },
      "source": [
        "This example demonstrates how flow control, could be used in a simple login system, give it a try below!"
      ]
    },
    {
      "cell_type": "code",
      "execution_count": 128,
      "metadata": {
        "id": "CdZTvA04Qmno",
        "outputId": "b0daf7e7-178c-474d-cffc-8f3eed1bfa90",
        "colab": {
          "base_uri": "https://localhost:8080/"
        }
      },
      "outputs": [
        {
          "output_type": "stream",
          "name": "stdout",
          "text": [
            "enter your password:python\n",
            "Success!\n"
          ]
        }
      ],
      "source": [
        "countdown = 5 # Creating a variable to track the amount of tries left to input the correct password\n",
        "\n",
        "# Example of flow control being nested(put inside each other), this example loop allows for 6 runs before stopping\n",
        "for i in range(6):\n",
        "    password=str(input(\"enter your password:\"))#Try entering a variety of inputs and see what happens!\n",
        "    if(password == \"python\"): # The actual password\n",
        "        print(\"Success!\")\n",
        "        break # break is used to break out of the loop\n",
        "    if(countdown <= 0): # If countdown hits 0 or a negative value execute the statement underneath\n",
        "        print(\"Login failed!\")\n",
        "    else:\n",
        "        print(f\"\\n{countdown} Login attemps remaining!\") # Display the amount of login attemps left\n",
        "    countdown -= 1 # Reduce the countdown number by 1 every run"
      ]
    },
    {
      "cell_type": "markdown",
      "metadata": {
        "id": "GpAfb9IPQmmJ"
      },
      "source": [
        "# **Functions in Python**"
      ]
    },
    {
      "cell_type": "markdown",
      "metadata": {
        "id": "HI36jwFKQmmK"
      },
      "source": [
        "In programming we often come across situations where a particular block of code needs to be repeated or reused. Thus the concept of functions comes into play. A function is basically a block of code which performs a specific task.\n",
        "\n",
        "Functions make the entire code look more organised and manageable. They allow reusability of code and organise the program into small modular chunks."
      ]
    },
    {
      "cell_type": "markdown",
      "metadata": {
        "id": "hJVZzISKQmmK"
      },
      "source": [
        "**Syntax of a Function**"
      ]
    },
    {
      "cell_type": "code",
      "execution_count": 129,
      "metadata": {
        "id": "je-XIAaoQmmK"
      },
      "outputs": [],
      "source": [
        "def name_of_function(parameter):\n",
        "    statements"
      ]
    },
    {
      "cell_type": "markdown",
      "metadata": {
        "id": "Qk4l2NgNQmmO"
      },
      "source": [
        "The above example illustrates how a function typically looks like. Notice it contains three parts -\n",
        "1. Keyword def that marks the start of the function header.\n",
        "2. A unique function name which helps in identifying the function.\n",
        "3. Parameters which help us in passing values through the function. They are also known as arguments and are optional.\n",
        "4. Statements consist of the code which performs the specific task for which the function is defined.\n"
      ]
    },
    {
      "cell_type": "code",
      "execution_count": 130,
      "metadata": {
        "id": "p3X22xWIQmmO"
      },
      "outputs": [],
      "source": [
        "def sum(x, y): #This example shows a function which can add two numbers x & y\n",
        "    s = x+y\n",
        "    return s"
      ]
    },
    {
      "cell_type": "markdown",
      "metadata": {
        "id": "46Jtqhn5Qmmf"
      },
      "source": [
        "**Function Call**"
      ]
    },
    {
      "cell_type": "code",
      "execution_count": 134,
      "metadata": {
        "id": "IPeV9Re1Qmmg",
        "colab": {
          "base_uri": "https://localhost:8080/"
        },
        "outputId": "45e893f9-521b-4be4-c871-ea6a231ccec6"
      },
      "outputs": [
        {
          "output_type": "stream",
          "name": "stdout",
          "text": [
            "50\n"
          ]
        }
      ],
      "source": [
        "num_1 = 27\n",
        "num_2 = 23\n",
        "print (sum(num_1,num_2)) #Notice how the two numbers are passed into the 'sum' function"
      ]
    },
    {
      "cell_type": "markdown",
      "metadata": {
        "id": "eFIsmmSyQmmy"
      },
      "source": [
        "Functions can be user-defined or built-in. Can you point out an example of each?"
      ]
    },
    {
      "cell_type": "code",
      "execution_count": 131,
      "metadata": {
        "id": "_4AIxWThQmmy"
      },
      "outputs": [],
      "source": [
        "#write your answer here"
      ]
    },
    {
      "cell_type": "markdown",
      "metadata": {
        "id": "nNxeCJXPQmm3"
      },
      "source": [
        "Write a function in Python to convert celsius Scale to Fahrenheit Scale"
      ]
    },
    {
      "cell_type": "code",
      "execution_count": 133,
      "metadata": {
        "id": "WzdfRNcZQmm3"
      },
      "outputs": [],
      "source": [
        "#Write your answer here"
      ]
    },
    {
      "cell_type": "markdown",
      "metadata": {
        "id": "VPTAULY2Qmm8"
      },
      "source": [
        "# Modules in Python"
      ]
    },
    {
      "cell_type": "markdown",
      "metadata": {
        "id": "oFI2-8ACQmm8"
      },
      "source": [
        "Modules refer to a file containing Python statements and definitions.\n",
        "\n",
        "A file containing Python code, for example: test.py, is called a module, and its module name would be test.\n",
        "\n",
        "We use modules to break down large programs into small manageable and organized files. Furthermore, modules provide reusability of code.\n",
        "\n",
        "We can define our most used functions in a module and import it, instead of copying their definitions into different programs."
      ]
    },
    {
      "cell_type": "code",
      "execution_count": 135,
      "metadata": {
        "id": "PQORPfqmQmm9",
        "colab": {
          "base_uri": "https://localhost:8080/"
        },
        "outputId": "12a1d219-915c-42cf-bda4-a27dccdc2efb"
      },
      "outputs": [
        {
          "output_type": "stream",
          "name": "stdout",
          "text": [
            "The value of pi is 3.141592653589793\n"
          ]
        }
      ],
      "source": [
        "# import statement example\n",
        "# to import standard module math\n",
        "\n",
        "import math\n",
        "print(\"The value of pi is\", math.pi)"
      ]
    },
    {
      "cell_type": "markdown",
      "metadata": {
        "id": "mnrxzjAcQmnA"
      },
      "source": [
        "# Packages in Python"
      ]
    },
    {
      "cell_type": "markdown",
      "metadata": {
        "id": "EDIAc41kQmnB"
      },
      "source": [
        "We often use a well organised directory to store folders & files in our computer. Similarly in python we often organise a group of modules together in a package. This heirarchy of organisation is analogous to a directory consisting of folders and files where you can considrer a package to be analogous to a folder whereas a module is analogous to a file.\n",
        "\n",
        "Just like a folder contains multiple files a package can contain multiple modules.\n",
        "\n",
        "As our program grows larger in size with a lot of modules, we group similar modules in one package and different modules in different packages. This makes a program easy to manage and conceptually clear.\n",
        "\n",
        "A directory must contain a file named __init__.py in order for Python to consider it as a package. This file can be left empty but we generally place the initialization code for that package in this file."
      ]
    },
    {
      "cell_type": "code",
      "execution_count": 136,
      "metadata": {
        "id": "qi9R68fsQmnB",
        "colab": {
          "base_uri": "https://localhost:8080/"
        },
        "outputId": "52186eb6-1ada-4ac9-a0d5-0916374caa05"
      },
      "outputs": [
        {
          "output_type": "stream",
          "name": "stdout",
          "text": [
            "[[ 6  8]\n",
            " [10 12]]\n"
          ]
        }
      ],
      "source": [
        "#Numpy is a popular package for scientific and mathematical computing in Python.\n",
        "#In the example below we are adding two 2*2 matrices\n",
        "import numpy as np\n",
        "\n",
        "a = np.array([[1, 2], [3, 4]])\n",
        "b = np.array([[5, 6], [7, 8]])\n",
        "print(a+b)"
      ]
    },
    {
      "cell_type": "markdown",
      "metadata": {
        "id": "uHS07C51Qmnu"
      },
      "source": [
        "# **Bonus Exercise**"
      ]
    },
    {
      "cell_type": "markdown",
      "metadata": {
        "id": "ncFyHDHAH9zx"
      },
      "source": [
        "<br>Make a simple calculator that does simple calculations. Here you would have to do some String manipulations then, identify the operator used in the input then print out the value of the calculation. These basic operators should be accepted by your implementation! **+ - * /** *Addition, Subtraction, Multiplication and Division.*\n",
        "<br><br> For Example, input would be \"1+2\" or \"1\\*2\", etc<br>string(*input*(\"Enter values in the form: \"number operator number\"))\n",
        "\n",
        "<br><br>Feel free to use online resources to aid you with this.\n",
        "\n",
        "<br> ***Hint***: Use Type-Conversion after extracting the operator and numbers."
      ]
    },
    {
      "cell_type": "code",
      "execution_count": 139,
      "metadata": {
        "id": "xCXeSIyfH9hR",
        "colab": {
          "base_uri": "https://localhost:8080/",
          "height": 367
        },
        "outputId": "486989c5-ef9d-4ceb-f16e-48f8dd2843dc"
      },
      "outputs": [
        {
          "name": "stdout",
          "output_type": "stream",
          "text": [
            "EG.'1+2' 3\n"
          ]
        },
        {
          "output_type": "error",
          "ename": "NameError",
          "evalue": "name 'num1' is not defined",
          "traceback": [
            "\u001b[0;31m---------------------------------------------------------------------------\u001b[0m",
            "\u001b[0;31mNameError\u001b[0m                                 Traceback (most recent call last)",
            "\u001b[0;32m<ipython-input-139-e21f975e980b>\u001b[0m in \u001b[0;36m<cell line: 25>\u001b[0;34m()\u001b[0m\n\u001b[1;32m     23\u001b[0m \u001b[0;31m#Input here!\u001b[0m\u001b[0;34m\u001b[0m\u001b[0;34m\u001b[0m\u001b[0m\n\u001b[1;32m     24\u001b[0m \u001b[0minputString\u001b[0m \u001b[0;34m=\u001b[0m \u001b[0minput\u001b[0m\u001b[0;34m(\u001b[0m\u001b[0;34m\"EG.'1+2' \"\u001b[0m\u001b[0;34m)\u001b[0m\u001b[0;34m\u001b[0m\u001b[0;34m\u001b[0m\u001b[0m\n\u001b[0;32m---> 25\u001b[0;31m \u001b[0mmyCalculator\u001b[0m\u001b[0;34m(\u001b[0m\u001b[0minputString\u001b[0m\u001b[0;34m)\u001b[0m\u001b[0;34m\u001b[0m\u001b[0;34m\u001b[0m\u001b[0m\n\u001b[0m",
            "\u001b[0;32m<ipython-input-139-e21f975e980b>\u001b[0m in \u001b[0;36mmyCalculator\u001b[0;34m(inputString)\u001b[0m\n\u001b[1;32m     12\u001b[0m \u001b[0;34m\u001b[0m\u001b[0m\n\u001b[1;32m     13\u001b[0m  \u001b[0;31m#The function arguments in this example should be derived from splitting up the input string above!\u001b[0m\u001b[0;34m\u001b[0m\u001b[0;34m\u001b[0m\u001b[0m\n\u001b[0;32m---> 14\u001b[0;31m   \u001b[0mprintCalculation\u001b[0m\u001b[0;34m(\u001b[0m\u001b[0mnum1\u001b[0m\u001b[0;34m,\u001b[0m\u001b[0moperator\u001b[0m\u001b[0;34m,\u001b[0m\u001b[0mnum2\u001b[0m\u001b[0;34m)\u001b[0m \u001b[0;31m#This is an example of what values go into the function! printCalculation(1,'+',2)\u001b[0m\u001b[0;34m\u001b[0m\u001b[0;34m\u001b[0m\u001b[0m\n\u001b[0m\u001b[1;32m     15\u001b[0m \u001b[0;34m\u001b[0m\u001b[0m\n\u001b[1;32m     16\u001b[0m \u001b[0;31m#printCalculation takes in the arguments of the first number in the string, the operator, the second number\u001b[0m\u001b[0;34m\u001b[0m\u001b[0;34m\u001b[0m\u001b[0m\n",
            "\u001b[0;31mNameError\u001b[0m: name 'num1' is not defined"
          ]
        }
      ],
      "source": [
        "#Make additional changes or add functions if you need to\n",
        "\n",
        "#myCalculator takes in the argument (inputString) passed in from the user-input (Your Keyboard)\n",
        "#An example input would be in this form: '1+2' or '3-2', etc\n",
        "def myCalculator(inputString):\n",
        "  #Extract the numbers and operator from the inputString\n",
        "\n",
        "    #++++++Codes under here!-------\n",
        "    #Hint: Use Slicing to obtain the numbers and operator! Then use type conversion to obtain the number and character!\n",
        "\n",
        "    #++++++Codes above here!-------\n",
        "\n",
        " #The function arguments in this example should be derived from splitting up the input string above!\n",
        "  printCalculation(num1,operator,num2) #This is an example of what values go into the function! printCalculation(1,'+',2)\n",
        "\n",
        "#printCalculation takes in the arguments of the first number in the string, the operator, the second number\n",
        "def printCalculation(num1,operator,num2):\n",
        "    if(operator == '+'): #Add the other operators with elif!\n",
        "        print(num1,' ',operator, ' ', num2, ' = ',num1+num2) #The output will be displayed as \"1 + 2 = 3\" for example\n",
        "    else:\n",
        "        print(\"Error!\") #This just checks if you have entered the input correctly!\n",
        "\n",
        "#Input here!\n",
        "inputString = input(\"EG.'1+2' \")\n",
        "myCalculator(inputString)"
      ]
    }
  ],
  "metadata": {
    "colab": {
      "provenance": []
    },
    "kernelspec": {
      "display_name": "Python 3 (ipykernel)",
      "language": "python",
      "name": "python3"
    },
    "language_info": {
      "codemirror_mode": {
        "name": "ipython",
        "version": 3
      },
      "file_extension": ".py",
      "mimetype": "text/x-python",
      "name": "python",
      "nbconvert_exporter": "python",
      "pygments_lexer": "ipython3",
      "version": "3.9.7"
    }
  },
  "nbformat": 4,
  "nbformat_minor": 0
}